{
 "cells": [
  {
   "cell_type": "code",
   "execution_count": 1,
   "id": "3db8c3d4",
   "metadata": {
    "_cell_guid": "b1076dfc-b9ad-4769-8c92-a6c4dae69d19",
    "_uuid": "8f2839f25d086af736a60e9eeb907d3b93b6e0e5",
    "execution": {
     "iopub.execute_input": "2024-03-01T07:51:17.408312Z",
     "iopub.status.busy": "2024-03-01T07:51:17.407973Z",
     "iopub.status.idle": "2024-03-01T07:51:44.967473Z",
     "shell.execute_reply": "2024-03-01T07:51:44.966665Z"
    },
    "papermill": {
     "duration": 27.566817,
     "end_time": "2024-03-01T07:51:44.969915",
     "exception": false,
     "start_time": "2024-03-01T07:51:17.403098",
     "status": "completed"
    },
    "tags": []
   },
   "outputs": [
    {
     "name": "stderr",
     "output_type": "stream",
     "text": [
      "/opt/conda/lib/python3.10/site-packages/scipy/__init__.py:146: UserWarning: A NumPy version >=1.16.5 and <1.23.0 is required for this version of SciPy (detected version 1.24.3\n",
      "  warnings.warn(f\"A NumPy version >={np_minversion} and <{np_maxversion}\"\n"
     ]
    },
    {
     "name": "stdout",
     "output_type": "stream",
     "text": [
      "Found 28044 images belonging to 7 classes.\n",
      "Found 7177 images belonging to 7 classes.\n"
     ]
    }
   ],
   "source": [
    "import tensorflow as tf\n",
    "from tensorflow.keras.layers import Input, Conv2D, MaxPooling2D, Flatten, Dense, BatchNormalization, Activation, Add\n",
    "from tensorflow.keras.models import Model\n",
    "import os\n",
    "import zipfile\n",
    "import matplotlib.pyplot as plt\n",
    "import numpy as np\n",
    "from sklearn.metrics import confusion_matrix\n",
    "from tensorflow.keras.preprocessing.image import ImageDataGenerator\n",
    "from tensorflow.keras.models import Sequential\n",
    "from tensorflow.keras.layers import Conv2D, MaxPooling2D, Flatten, Dense\n",
    "\n",
    "\n",
    "input_shape = (48, 48, 1)\n",
    "dataset_path = \"/kaggle/input/fer2013-cleaned-dataset/images1\"\n",
    "batch_size = 64\n",
    "num_train_samples = 28044\n",
    "num_test_samples = 7177\n",
    "\n",
    "train_data_generator = ImageDataGenerator(rescale=1./255)\n",
    "test_data_generator = ImageDataGenerator(rescale=1./255)\n",
    "\n",
    "train_data = train_data_generator.flow_from_directory(\n",
    "    os.path.join(dataset_path, 'train'),\n",
    "    color_mode='grayscale',\n",
    "    target_size=input_shape[:2],\n",
    "    batch_size=batch_size,\n",
    "    class_mode='categorical',\n",
    "    shuffle=True\n",
    ")\n",
    "\n",
    "test_data = test_data_generator.flow_from_directory(\n",
    "    os.path.join(dataset_path, 'test'),\n",
    "    color_mode='grayscale',\n",
    "    target_size=input_shape[:2],\n",
    "    batch_size=batch_size,\n",
    "    class_mode='categorical',\n",
    "    shuffle=False\n",
    ")\n",
    "\n",
    "\n",
    "\n",
    "from keras.models import Sequential\n",
    "import numpy as np\n",
    "import tensorflow as tf\n",
    "np.random.seed(42)\n",
    "tf.random.set_seed(42)\n",
    "\n",
    "\n"
   ]
  },
  {
   "cell_type": "code",
   "execution_count": 2,
   "id": "11dfd713",
   "metadata": {
    "execution": {
     "iopub.execute_input": "2024-03-01T07:51:44.978600Z",
     "iopub.status.busy": "2024-03-01T07:51:44.977785Z",
     "iopub.status.idle": "2024-03-01T07:51:44.991441Z",
     "shell.execute_reply": "2024-03-01T07:51:44.990556Z"
    },
    "papermill": {
     "duration": 0.019839,
     "end_time": "2024-03-01T07:51:44.993306",
     "exception": false,
     "start_time": "2024-03-01T07:51:44.973467",
     "status": "completed"
    },
    "tags": []
   },
   "outputs": [],
   "source": [
    "def residual_block(x, filters, kernel_size=(3, 3), stride=(1, 1), padding='same'):\n",
    "    shortcut = x\n",
    "    \n",
    "    # First convolution layer\n",
    "    x = Conv2D(filters, kernel_size, strides=stride, padding=padding)(x)\n",
    "    x = BatchNormalization()(x)\n",
    "    x = Activation('relu')(x)\n",
    "    \n",
    "    # Second convolution layer\n",
    "    x = Conv2D(filters, kernel_size, padding=padding)(x)\n",
    "    x = BatchNormalization()(x)\n",
    "    \n",
    "    # Add the shortcut to the output\n",
    "    x = Add()([x, shortcut])\n",
    "    x = Activation('relu')(x)\n",
    "    \n",
    "    return x\n",
    "\n",
    "\n",
    "def build_vgg_with_resnet(input_shape, num_classes):\n",
    "    input_layer = Input(shape=input_shape)\n",
    "    \n",
    "    # VGG-like convolutional layers with residual blocks\n",
    "    x = Conv2D(64, (3, 3), padding='same', activation='relu')(input_layer)\n",
    "    x = residual_block(x, 64)\n",
    "    x = MaxPooling2D(pool_size=(2, 2))(x)\n",
    "    \n",
    "    x = Conv2D(128, (3, 3), padding='same', activation='relu')(x)\n",
    "    x = residual_block(x, 128)\n",
    "    x = MaxPooling2D(pool_size=(2, 2))(x)\n",
    "    \n",
    "    x = Conv2D(256, (3, 3), padding='same', activation='relu')(x)\n",
    "    x = residual_block(x, 256)\n",
    "    x = MaxPooling2D(pool_size=(2, 2))(x)\n",
    "    \n",
    "    x = Conv2D(512, (3, 3), padding='same', activation='relu')(x)\n",
    "    x = residual_block(x, 512)\n",
    "    x = MaxPooling2D(pool_size=(2, 2))(x)\n",
    "    \n",
    "    # Flatten and add fully connected layers\n",
    "    x = Flatten()(x)\n",
    "    x = Dense(512, activation='relu')(x)\n",
    "    x = Dense(512, activation='relu')(x)\n",
    "    \n",
    "    # Output layer\n",
    "    output_layer = Dense(num_classes, activation='softmax')(x)\n",
    "    \n",
    "    # Create and compile the model\n",
    "    model = Model(inputs=input_layer, outputs=output_layer)\n",
    "    \n",
    "    return model\n",
    "\n",
    "\n"
   ]
  },
  {
   "cell_type": "code",
   "execution_count": 3,
   "id": "1902ddc0",
   "metadata": {
    "execution": {
     "iopub.execute_input": "2024-03-01T07:51:45.000936Z",
     "iopub.status.busy": "2024-03-01T07:51:45.000666Z",
     "iopub.status.idle": "2024-03-01T07:51:46.397895Z",
     "shell.execute_reply": "2024-03-01T07:51:46.397108Z"
    },
    "papermill": {
     "duration": 1.403755,
     "end_time": "2024-03-01T07:51:46.400292",
     "exception": false,
     "start_time": "2024-03-01T07:51:44.996537",
     "status": "completed"
    },
    "tags": []
   },
   "outputs": [],
   "source": [
    "num_classes = 7  \n",
    "model = build_vgg_with_resnet(input_shape, num_classes)"
   ]
  },
  {
   "cell_type": "code",
   "execution_count": 4,
   "id": "ba4a3edf",
   "metadata": {
    "execution": {
     "iopub.execute_input": "2024-03-01T07:51:46.408304Z",
     "iopub.status.busy": "2024-03-01T07:51:46.407996Z",
     "iopub.status.idle": "2024-03-01T08:10:33.080534Z",
     "shell.execute_reply": "2024-03-01T08:10:33.079574Z"
    },
    "papermill": {
     "duration": 1127.689367,
     "end_time": "2024-03-01T08:10:34.093168",
     "exception": false,
     "start_time": "2024-03-01T07:51:46.403801",
     "status": "completed"
    },
    "tags": []
   },
   "outputs": [
    {
     "name": "stdout",
     "output_type": "stream",
     "text": [
      "Epoch 1/30\n",
      "438/438 [==============================] - 107s 219ms/step - loss: 2.0035 - accuracy: 0.2520 - val_loss: 1.7669 - val_accuracy: 0.2922\n",
      "Epoch 2/30\n",
      "438/438 [==============================] - 34s 79ms/step - loss: 1.5624 - accuracy: 0.3766 - val_loss: 1.5435 - val_accuracy: 0.3837\n",
      "Epoch 3/30\n",
      "438/438 [==============================] - 37s 84ms/step - loss: 1.3682 - accuracy: 0.4637 - val_loss: 1.4986 - val_accuracy: 0.4039\n",
      "Epoch 4/30\n",
      "438/438 [==============================] - 39s 89ms/step - loss: 1.2681 - accuracy: 0.5044 - val_loss: 1.4027 - val_accuracy: 0.4622\n",
      "Epoch 5/30\n",
      "438/438 [==============================] - 35s 79ms/step - loss: 1.1905 - accuracy: 0.5406 - val_loss: 1.2703 - val_accuracy: 0.5044\n",
      "Epoch 6/30\n",
      "438/438 [==============================] - 32s 74ms/step - loss: 1.1338 - accuracy: 0.5633 - val_loss: 1.2081 - val_accuracy: 0.5343\n",
      "Epoch 7/30\n",
      "438/438 [==============================] - 33s 75ms/step - loss: 1.0784 - accuracy: 0.5909 - val_loss: 1.2643 - val_accuracy: 0.5180\n",
      "Epoch 8/30\n",
      "438/438 [==============================] - 32s 73ms/step - loss: 1.0333 - accuracy: 0.6074 - val_loss: 1.1491 - val_accuracy: 0.5605\n",
      "Epoch 9/30\n",
      "438/438 [==============================] - 37s 84ms/step - loss: 0.9875 - accuracy: 0.6249 - val_loss: 1.1662 - val_accuracy: 0.5605\n",
      "Epoch 10/30\n",
      "438/438 [==============================] - 34s 78ms/step - loss: 0.9540 - accuracy: 0.6398 - val_loss: 1.2312 - val_accuracy: 0.5373\n",
      "Epoch 11/30\n",
      "438/438 [==============================] - 35s 80ms/step - loss: 0.9026 - accuracy: 0.6579 - val_loss: 1.6317 - val_accuracy: 0.4314\n",
      "Epoch 12/30\n",
      "438/438 [==============================] - 35s 80ms/step - loss: 0.8543 - accuracy: 0.6781 - val_loss: 1.1366 - val_accuracy: 0.5846\n",
      "Epoch 13/30\n",
      "438/438 [==============================] - 35s 80ms/step - loss: 0.8113 - accuracy: 0.6980 - val_loss: 1.1756 - val_accuracy: 0.5830\n",
      "Epoch 14/30\n",
      "438/438 [==============================] - 36s 82ms/step - loss: 0.7620 - accuracy: 0.7174 - val_loss: 1.2197 - val_accuracy: 0.5739\n",
      "Epoch 15/30\n",
      "438/438 [==============================] - 35s 79ms/step - loss: 0.7122 - accuracy: 0.7357 - val_loss: 1.1986 - val_accuracy: 0.5867\n",
      "Epoch 16/30\n",
      "438/438 [==============================] - 37s 85ms/step - loss: 0.6710 - accuracy: 0.7503 - val_loss: 1.2758 - val_accuracy: 0.5892\n",
      "Epoch 17/30\n",
      "438/438 [==============================] - 36s 82ms/step - loss: 0.6129 - accuracy: 0.7773 - val_loss: 1.2924 - val_accuracy: 0.5824\n",
      "Epoch 18/30\n",
      "438/438 [==============================] - 39s 90ms/step - loss: 0.5595 - accuracy: 0.7941 - val_loss: 1.3005 - val_accuracy: 0.5835\n",
      "Epoch 19/30\n",
      "438/438 [==============================] - 37s 85ms/step - loss: 0.5092 - accuracy: 0.8117 - val_loss: 1.4408 - val_accuracy: 0.5770\n",
      "Epoch 20/30\n",
      "438/438 [==============================] - 35s 79ms/step - loss: 0.4534 - accuracy: 0.8349 - val_loss: 1.4012 - val_accuracy: 0.5944\n",
      "Epoch 21/30\n",
      "438/438 [==============================] - 35s 79ms/step - loss: 0.4146 - accuracy: 0.8498 - val_loss: 1.3718 - val_accuracy: 0.6000\n",
      "Epoch 22/30\n",
      "438/438 [==============================] - 36s 81ms/step - loss: 0.3597 - accuracy: 0.8703 - val_loss: 1.5743 - val_accuracy: 0.5884\n",
      "Epoch 23/30\n",
      "438/438 [==============================] - 35s 80ms/step - loss: 0.3260 - accuracy: 0.8826 - val_loss: 1.7070 - val_accuracy: 0.5838\n",
      "Epoch 24/30\n",
      "438/438 [==============================] - 34s 78ms/step - loss: 0.2936 - accuracy: 0.8949 - val_loss: 1.8151 - val_accuracy: 0.5941\n",
      "Epoch 25/30\n",
      "438/438 [==============================] - 33s 76ms/step - loss: 0.2676 - accuracy: 0.9040 - val_loss: 1.6844 - val_accuracy: 0.5958\n",
      "Epoch 26/30\n",
      "438/438 [==============================] - 36s 82ms/step - loss: 0.2313 - accuracy: 0.9185 - val_loss: 1.9295 - val_accuracy: 0.5885\n",
      "Epoch 27/30\n",
      "438/438 [==============================] - 34s 77ms/step - loss: 0.2037 - accuracy: 0.9271 - val_loss: 1.9617 - val_accuracy: 0.5785\n",
      "Epoch 28/30\n",
      "438/438 [==============================] - 33s 75ms/step - loss: 0.1927 - accuracy: 0.9332 - val_loss: 1.9462 - val_accuracy: 0.5782\n",
      "Epoch 29/30\n",
      "438/438 [==============================] - 33s 75ms/step - loss: 0.1646 - accuracy: 0.9419 - val_loss: 1.9913 - val_accuracy: 0.6026\n",
      "Epoch 30/30\n",
      "438/438 [==============================] - 32s 73ms/step - loss: 0.1537 - accuracy: 0.9467 - val_loss: 2.3989 - val_accuracy: 0.5913\n"
     ]
    }
   ],
   "source": [
    "optimizer = tf.keras.optimizers.Adam(amsgrad=True,learning_rate=0.001)  # Using Adam with AMSGrad\n",
    "model.compile(loss='categorical_crossentropy', optimizer=optimizer, metrics=['accuracy'])\n",
    "history = model.fit(\n",
    "   train_data,\n",
    "     steps_per_epoch=num_train_samples // batch_size,\n",
    "     epochs=30,\n",
    "    batch_size=batch_size,\n",
    "    validation_data=test_data\n",
    ")"
   ]
  },
  {
   "cell_type": "code",
   "execution_count": 5,
   "id": "7cf4978e",
   "metadata": {
    "execution": {
     "iopub.execute_input": "2024-03-01T08:10:36.189807Z",
     "iopub.status.busy": "2024-03-01T08:10:36.189319Z",
     "iopub.status.idle": "2024-03-01T08:10:42.509570Z",
     "shell.execute_reply": "2024-03-01T08:10:42.508664Z"
    },
    "papermill": {
     "duration": 7.344592,
     "end_time": "2024-03-01T08:10:42.511711",
     "exception": false,
     "start_time": "2024-03-01T08:10:35.167119",
     "status": "completed"
    },
    "tags": []
   },
   "outputs": [
    {
     "name": "stdout",
     "output_type": "stream",
     "text": [
      "112/112 [==============================] - 6s 55ms/step - loss: 2.3863 - accuracy: 0.5917\n"
     ]
    }
   ],
   "source": [
    "test_loss, test_accuracy = model.evaluate(\n",
    "    test_data,\n",
    "    steps=num_test_samples // batch_size\n",
    ")"
   ]
  },
  {
   "cell_type": "code",
   "execution_count": 6,
   "id": "fc763a8c",
   "metadata": {
    "execution": {
     "iopub.execute_input": "2024-03-01T08:10:44.641026Z",
     "iopub.status.busy": "2024-03-01T08:10:44.640651Z",
     "iopub.status.idle": "2024-03-01T08:10:51.931674Z",
     "shell.execute_reply": "2024-03-01T08:10:51.930720Z"
    },
    "papermill": {
     "duration": 8.318378,
     "end_time": "2024-03-01T08:10:51.933878",
     "exception": false,
     "start_time": "2024-03-01T08:10:43.615500",
     "status": "completed"
    },
    "tags": []
   },
   "outputs": [
    {
     "name": "stdout",
     "output_type": "stream",
     "text": [
      "112/112 [==============================] - 7s 61ms/step\n"
     ]
    }
   ],
   "source": [
    "from sklearn.metrics import classification_report, roc_auc_score\n",
    "\n",
    "# Assuming you have trained your model and evaluated it\n",
    "# test_data, num_test_samples, batch_size, model\n",
    "\n",
    "# Make predictions on test data\n",
    "predictions = model.predict(test_data, steps=num_test_samples // batch_size)\n",
    "predicted_classes = np.argmax(predictions, axis=1)\n",
    "true_classes = test_data.classes[:len(predicted_classes)]  # Extract true classes from the test_data\n",
    "\n",
    "# Calculate AUC score\n",
    "auc = roc_auc_score(test_data.labels[:len(predicted_classes)], predictions, multi_class='ovr') \n",
    "\n",
    "# print(\"AUC Score:\", auc)\n"
   ]
  },
  {
   "cell_type": "code",
   "execution_count": 7,
   "id": "ef9e8cb3",
   "metadata": {
    "execution": {
     "iopub.execute_input": "2024-03-01T08:10:54.069165Z",
     "iopub.status.busy": "2024-03-01T08:10:54.068268Z",
     "iopub.status.idle": "2024-03-01T08:11:00.212992Z",
     "shell.execute_reply": "2024-03-01T08:11:00.212037Z"
    },
    "papermill": {
     "duration": 7.231746,
     "end_time": "2024-03-01T08:11:00.215067",
     "exception": false,
     "start_time": "2024-03-01T08:10:52.983321",
     "status": "completed"
    },
    "tags": []
   },
   "outputs": [
    {
     "name": "stdout",
     "output_type": "stream",
     "text": [
      "113/113 [==============================] - 6s 53ms/step\n",
      "AUC Score: 0.8658179809575918\n",
      "Accuracy: 0.5913334262226557\n",
      "Precision: 0.5900274645421822\n",
      "Recall: 0.5913334262226557\n",
      "F1 Score: 0.5803133534784726\n"
     ]
    }
   ],
   "source": [
    "from sklearn.metrics import accuracy_score, precision_score, recall_score, f1_score\n",
    "y_true = test_data.classes  # Assuming you're using flow_from_directory\n",
    "predictions = model.predict(test_data)\n",
    "\n",
    "# Convert predictions to class labels\n",
    "y_pred = np.argmax(predictions, axis=1)\n",
    "\n",
    "# Compute metrics\n",
    "accuracy = accuracy_score(y_true, y_pred)\n",
    "precision = precision_score(y_true, y_pred, average='weighted')\n",
    "recall = recall_score(y_true, y_pred, average='weighted')\n",
    "f1 = f1_score(y_true, y_pred, average='weighted')\n",
    "\n",
    "# If binary classification, compute AUC  # AUC is not applicable for multi-class\n",
    "print(\"AUC Score:\", auc)\n",
    "print(\"Accuracy:\", accuracy)\n",
    "print(\"Precision:\", precision)\n",
    "print(\"Recall:\", recall)\n",
    "print(\"F1 Score:\", f1)"
   ]
  }
 ],
 "metadata": {
  "kaggle": {
   "accelerator": "gpu",
   "dataSources": [
    {
     "datasetId": 3807869,
     "sourceId": 6607896,
     "sourceType": "datasetVersion"
    }
   ],
   "dockerImageVersionId": 30627,
   "isGpuEnabled": true,
   "isInternetEnabled": true,
   "language": "python",
   "sourceType": "notebook"
  },
  "kernelspec": {
   "display_name": "Python 3",
   "language": "python",
   "name": "python3"
  },
  "language_info": {
   "codemirror_mode": {
    "name": "ipython",
    "version": 3
   },
   "file_extension": ".py",
   "mimetype": "text/x-python",
   "name": "python",
   "nbconvert_exporter": "python",
   "pygments_lexer": "ipython3",
   "version": "3.10.12"
  },
  "papermill": {
   "default_parameters": {},
   "duration": 1190.262925,
   "end_time": "2024-03-01T08:11:04.385577",
   "environment_variables": {},
   "exception": null,
   "input_path": "__notebook__.ipynb",
   "output_path": "__notebook__.ipynb",
   "parameters": {},
   "start_time": "2024-03-01T07:51:14.122652",
   "version": "2.4.0"
  }
 },
 "nbformat": 4,
 "nbformat_minor": 5
}
